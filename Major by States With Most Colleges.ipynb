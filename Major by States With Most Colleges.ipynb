{
 "cells": [
  {
   "cell_type": "code",
   "execution_count": 1,
   "metadata": {},
   "outputs": [],
   "source": [
    "import matplotlib.pyplot as plt\n",
    "import numpy as np\n",
    "import pandas as pd"
   ]
  },
  {
   "cell_type": "code",
   "execution_count": 31,
   "metadata": {},
   "outputs": [],
   "source": [
    "df = pd.DataFrame([['California', 3929561, 781396, 1721094, 580366, 2416067], ['Illinois', 1045224, 310047, 662118, 376087, 715496], ['New York', 1789079, 479671, 964887, 545542, 1387039],\n",
    "                   ['Pennsylvania', 972658, 325160, 557288, 402944, 659352], ['Texas', 2034598, 552412, 1340690, 686845, 1161988]],\n",
    "                  columns=['State', 'Science and Engineering', 'Science and Engineering Related Fields', 'Business', 'Education', 'Arts, Humanities and Others'])"
   ]
  },
  {
   "cell_type": "code",
   "execution_count": 32,
   "metadata": {},
   "outputs": [
    {
     "name": "stdout",
     "output_type": "stream",
     "text": [
      "          State  Science and Engineering  \\\n",
      "0    California                  3929561   \n",
      "1      Illinois                  1045224   \n",
      "2      New York                  1789079   \n",
      "3  Pennsylvania                   972658   \n",
      "4         Texas                  2034598   \n",
      "\n",
      "   Science and Engineering Related Fields  Business  Education  \\\n",
      "0                                  781396   1721094     580366   \n",
      "1                                  310047    662118     376087   \n",
      "2                                  479671    964887     545542   \n",
      "3                                  325160    557288     402944   \n",
      "4                                  552412   1340690     686845   \n",
      "\n",
      "   Arts, Humanities and Others  \n",
      "0                      2416067  \n",
      "1                       715496  \n",
      "2                      1387039  \n",
      "3                       659352  \n",
      "4                      1161988  \n"
     ]
    }
   ],
   "source": [
    "print(df)"
   ]
  },
  {
   "cell_type": "code",
   "execution_count": 43,
   "metadata": {},
   "outputs": [
    {
     "data": {
      "text/plain": [
       "<matplotlib.axes._subplots.AxesSubplot at 0x22c1de37048>"
      ]
     },
     "execution_count": 43,
     "metadata": {},
     "output_type": "execute_result"
    },
    {
     "data": {
      "image/png": "[encoded data removed]",
      "text/plain": [
       "<Figure size 432x288 with 1 Axes>"
      ]
     },
     "metadata": {
      "needs_background": "light"
     },
     "output_type": "display_data"
    }
   ],
   "source": [
    "df.plot(x='State', kind='bar', stacked=True,\n",
    "        title='Most Popular Major By States with Most Colleges')\n"
   ]
  },
  {
   "cell_type": "code",
   "execution_count": null,
   "metadata": {},
   "outputs": [],
   "source": []
  }
 ],
 "metadata": {
  "kernelspec": {
   "display_name": "Python 3",
   "language": "python",
   "name": "python3"
  },
  "language_info": {
   "codemirror_mode": {
    "name": "ipython",
    "version": 3
   },
   "file_extension": ".py",
   "mimetype": "text/x-python",
   "name": "python",
   "nbconvert_exporter": "python",
   "pygments_lexer": "ipython3",
   "version": "3.6.10"
  }
 },
 "nbformat": 4,
 "nbformat_minor": 4
}
