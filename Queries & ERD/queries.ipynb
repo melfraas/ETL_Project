-1
--Query bach_data table
SELECT * FROM bach_data
--Query state_index table
SELECT * FROM state_index

--Join state_index and bach_data on state_num

SELECT bach_data.state, bach_data.state_num, state_index.state, state_index.state_num
FROM bach_data
JOIN state_index on bach_data.state = state_index.state_num = state.state_num;

-----------------------------------------------------------------------------------------------------
--2
--Query bach_data table
SELECT * FROM bach_data

--Query to display State, Male, 25 and over, per subject

SELECT State, Sex, "Age Group","Science and Engineering", "Science and Engineering Related Fields",
	"Business"	"Education"	"Arts, Humanities and Others"
FROM bach_data
WHERE
"Age Group" = '25 and older';

--Query to display State, Female, 25 and over, per subject

SELECT State, Sex, "Age Group", "Science and Engineering", "Science and Engineering Related Fields",
	"Business"	"Education"	"Arts, Humanities and Others"
FROM bach_data
WHERE
"Age Group" = '25 and older'
AND "Sex" = 'Female';

------------------------------------------------------------------------------------------------------
--3
--Query departments bach_data
SELECT * FROM bach_data 
SELECT state, sex, "Science and Engineering", "Science and Engineering Related Fields", 
"Business"	"Education"	"Arts, Humanities and Others"
FROM bach_data
WHERE "Science and Engineering"= >100,000
 "Science and Engineering Related Fields"= 100,000
 "Business" = >100,000
"Education"= >100,000
"Arts, Humanities and Others"= >100,000

------------------------------------------------------------------------------------------------------
--4
----Query dept_emp table
SELECT * FROM dept_emp
--Query employees table
SELECT * FROM employees
--Query departments table
SELECT * FROM departments

--List the department of each employee 
SELECT dept_emp.emp_no, employees.last_name, employees.first_name, departments.dept_name
FROM dept_emp
JOIN employees ON dept_emp.emp_no = employees.emp_no
JOIN departments ON dept_emp.dept_no = departments.dept_no;

-------------------------------------------------------------------------------------------------------
--5
--Query employees table
SELECT * FROM employees

--List first name, last name, and sex for employees whose first name is "Hercules" and last names begin with "B."
SELECT first_name, last_name, sex
FROM employees
WHERE
first_name = 'Hercules'
AND last_name LIKE 'B%';

--------------------------------------------------------------------------------------------------------
--6
----Query dept_emp table
SELECT * FROM dept_emp
--Query employees table
SELECT * FROM employees
--Query departments table
SELECT * FROM departments

--List all employees in the Sales department, including their employee number, last name, first name, and department name.
SELECT dept_emp.emp_no, employees.last_name, employees.first_name, departments.dept_name
FROM dept_emp
JOIN employees ON dept_emp.emp_no = employees.emp_no
JOIN departments ON dept_emp.dept_no = departments.dept_no
WHERE departments.dept_name = 'Sales';

--------------------------------------------------------------------------------------------------------
--7
----Query dept_emp table
SELECT * FROM dept_emp
--Query employees table
SELECT * FROM employees
--Query departments table
SELECT * FROM departments

--List all employees in the Sales and Development departments, including their employee number, last name, first name, and department name.
SELECT dept_emp.emp_no, employees.last_name, employees.first_name, departments.dept_name
FROM dept_emp
JOIN employees ON dept_emp.emp_no = employees.emp_no
JOIN departments ON dept_emp.dept_no = departments.dept_no
WHERE
departments.dept_name = 'Sales'
OR departments.dept_name = 'Development';

---------------------------------------------------------------------------------------------------------
--8
--Query employees table
SELECT * FROM employees

--In descending order, list the frequency count of employee last names, i.e., how many employees share each last name.
SELECT last_name, COUNT (last_name) AS "frequency"
FROM employees
GROUP BY last_name
ORDER BY "frequency" DESC;